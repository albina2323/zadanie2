{
  "nbformat": 4,
  "nbformat_minor": 0,
  "metadata": {
    "colab": {
      "provenance": [],
      "authorship_tag": "ABX9TyPNCD23y21OE5s6c0qVIhTt",
      "include_colab_link": true
    },
    "kernelspec": {
      "name": "python3",
      "display_name": "Python 3"
    },
    "language_info": {
      "name": "python"
    }
  },
  "cells": [
    {
      "cell_type": "markdown",
      "metadata": {
        "id": "view-in-github",
        "colab_type": "text"
      },
      "source": [
        "<a href=\"https://colab.research.google.com/github/albina2323/zadanie2/blob/main/student1.ipynb\" target=\"_parent\"><img src=\"https://colab.research.google.com/assets/colab-badge.svg\" alt=\"Open In Colab\"/></a>"
      ]
    },
    {
      "cell_type": "code",
      "execution_count": 3,
      "metadata": {
        "colab": {
          "base_uri": "https://localhost:8080/"
        },
        "id": "ieewvzcDShmg",
        "outputId": "20925cd1-eec9-47cc-ec82-62026794adce"
      },
      "outputs": [
        {
          "output_type": "stream",
          "name": "stdout",
          "text": [
            "Тестовая модель сохранена в /content/drive/MyDrive/models/project_1_student_performance.sav\n",
            "Модель успешно загружена!\n",
            "Прогнозируемый результат: 22025.47\n"
          ]
        },
        {
          "output_type": "stream",
          "name": "stderr",
          "text": [
            "/usr/local/lib/python3.10/dist-packages/sklearn/base.py:486: UserWarning: X has feature names, but RandomForestRegressor was fitted without feature names\n",
            "  warnings.warn(\n"
          ]
        }
      ],
      "source": [
        "from sklearn.ensemble import RandomForestRegressor\n",
        "import pickle\n",
        "import os\n",
        "\n",
        "# Создание тестовой модели\n",
        "test_model = RandomForestRegressor()\n",
        "test_model.fit([[1, 2, 3, 4, 5]], [10])  # Пример обучения\n",
        "\n",
        "# Сохранение тестовой модели\n",
        "model_save_path = '/content/drive/MyDrive/models/project_1_student_performance.sav'\n",
        "os.makedirs(os.path.dirname(model_save_path), exist_ok=True)\n",
        "\n",
        "with open(model_save_path, 'wb') as f:\n",
        "    pickle.dump(test_model, f)\n",
        "\n",
        "print(f\"Тестовая модель сохранена в {model_save_path}\")\n",
        "# Загрузка сохраненной модели\n",
        "with open(model_save_path, 'rb') as f:\n",
        "    loaded_model = pickle.load(f)\n",
        "\n",
        "print(\"Модель успешно загружена!\")\n",
        "\n",
        "import pandas as pd\n",
        "import numpy as np\n",
        "\n",
        "def predict_close(hours_studied, previous_scores, extracurricular_activities, sleep_hours, sample_question_papers_practiced):\n",
        "    # Создание DataFrame с входными данными\n",
        "    input_data = pd.DataFrame({\n",
        "        'hours_studied': [hours_studied],\n",
        "        'previous_scores': [previous_scores],\n",
        "        'extracurricular_activities': [extracurricular_activities],\n",
        "        'sleep_hours': [sleep_hours],\n",
        "        'sample_question_papers_practiced': [sample_question_papers_practiced]\n",
        "    })\n",
        "\n",
        "    # Преобразование данных (например, логарифмирование)\n",
        "    transformed_data = np.log1p(input_data)\n",
        "\n",
        "    # Использование загруженной модели для предсказания\n",
        "    prediction = loaded_model.predict(transformed_data)\n",
        "\n",
        "    # Обратное преобразование предсказания, если было применено логарифмирование\n",
        "    final_prediction = np.expm1(prediction)\n",
        "\n",
        "    # Возврат предсказанного значения\n",
        "    return round(final_prediction[0], 2)\n",
        "\n",
        "# Пример вызова функции\n",
        "hours_studied = 5\n",
        "previous_scores = 80\n",
        "extracurricular_activities = 2\n",
        "sleep_hours = 7\n",
        "sample_question_papers_practiced = 10\n",
        "\n",
        "result = predict_close(hours_studied, previous_scores, extracurricular_activities, sleep_hours, sample_question_papers_practiced)\n",
        "print(f\"Прогнозируемый результат: {result}\")\n",
        "\n",
        "\n"
      ]
    }
  ]
}